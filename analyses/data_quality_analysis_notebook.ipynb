{
 "cells": [
  {
   "cell_type": "markdown",
   "id": "22bbee38",
   "metadata": {},
   "source": [
    "### MIS-581 MIS581: Capstone – Business Intelligence and Data Analytics\n",
    "#### Week 6 Data Quality Analysis using Pandas \n",
    "#### Student: Robert Gregory"
   ]
  },
  {
   "cell_type": "code",
   "execution_count": 36,
   "id": "12423138",
   "metadata": {},
   "outputs": [],
   "source": [
    "import numpy as np\n",
    "import pandas as pd\n",
    "from ydata_profiling import ProfileReport"
   ]
  },
  {
   "cell_type": "code",
   "execution_count": 44,
   "id": "4e0b3eab",
   "metadata": {},
   "outputs": [
    {
     "name": "stdout",
     "output_type": "stream",
     "text": [
      "                   Provider Name                       Address1 Address2  \\\n",
      "0         WALGREENS STORE #11795             3551 CASSOPOLIS ST      NaN   \n",
      "1         Walmart Pharmacy #3462  3245 LAWRENCEVILLE SUWANEE RD      NaN   \n",
      "2  NBH HC BLASDELL NBH HC OF WNY               4233 Lake Avenue      NaN   \n",
      "3                    DELTA DRUGS                437 FERNANDO CT      NaN   \n",
      "4       Woodland Urgent Care LLC              22341 W 8 Mile Rd      NaN   \n",
      "\n",
      "       City State    Zip        Last Report Date  \\\n",
      "0   ELKHART    IN  46514  04/17/2023 12:00:00 AM   \n",
      "1   SUWANEE    GA  30024  04/18/2023 12:00:00 AM   \n",
      "2  BLASDELL    NY  14219  04/16/2023 12:00:00 AM   \n",
      "3  GLENDALE    CA  91204  04/17/2023 12:00:00 AM   \n",
      "4   DETROIT    MI  48219  02/27/2023 12:00:00 AM   \n",
      "\n",
      "                                Public Website  Phone Number  \\\n",
      "0  https://www.walgreens.com/findcare/services           NaN   \n",
      "1               https://www.walmarthealth.com/           NaN   \n",
      "2                                          NaN  716-875-2904   \n",
      "3                                          NaN           NaN   \n",
      "4                                          NaN           NaN   \n",
      "\n",
      "                      Geopoint  \n",
      "0   POINT (-85.97459 41.73845)  \n",
      "1   POINT (-84.05069 34.03694)  \n",
      "2   POINT (-78.82231 42.79669)  \n",
      "3  POINT (-118.26141 34.12862)  \n",
      "4    POINT (-83.2633 42.44242)  \n",
      "            Provider Name                            Address1      Address2  \\\n",
      "0        COLLINWOOD DRUGS                        313 Hwy 13 S           NaN   \n",
      "1  WALGREENS STORE #04615                  13007 WARWICK BLVD           NaN   \n",
      "2   LAGUNA HILLS PHARMACY  24261 AVENIDA DE LA CARLOTA STE Q2           NaN   \n",
      "3        Rainbow Pharmacy                      431 7th Street           NaN   \n",
      "4        CVS Store #04007                      3925 Walnut St  CVS Pharmacy   \n",
      "\n",
      "           City             County State Code      Zip National Drug Code  \\\n",
      "0    Collinwood              Wayne         TN  38450.0      00069-1085-30   \n",
      "1  Newport News  Newport News City         VA  23602.0      00069-1085-30   \n",
      "2  Laguna Hills             Orange         CA  92653.0      00069-1085-30   \n",
      "3    Lanai City               Maui         HI  96763.0      00069-1085-30   \n",
      "4  Philadelphia                NaN         PA  19104.0      00069-1085-30   \n",
      "\n",
      "  Order Label  Courses Available              Geocoded Address           NPI  \\\n",
      "0    Paxlovid               19.0  POINT (-87.740841 35.170746)           NaN   \n",
      "1    Paxlovid               92.0  POINT (-76.513157 37.104505)  1.104831e+09   \n",
      "2    Paxlovid               10.0  POINT (-117.704105 33.60863)  1.184106e+09   \n",
      "3    Paxlovid               11.0   POINT (-156.91955 20.82636)  1.588051e+09   \n",
      "4    Paxlovid               16.0  POINT (-75.201455 39.954345)  1.801045e+09   \n",
      "\n",
      "         Last Report Date Provider Status Provider Note  \n",
      "0  04/10/2023 12:00:00 AM          ACTIVE           NaN  \n",
      "1  04/17/2023 12:00:00 AM          ACTIVE           NaN  \n",
      "2  04/17/2023 12:00:00 AM          ACTIVE           NaN  \n",
      "3  04/18/2023 12:00:00 AM          ACTIVE           NaN  \n",
      "4  04/18/2023 12:00:00 AM          ACTIVE           NaN  \n"
     ]
    }
   ],
   "source": [
    "# Import the first dataset for data quality checks\n",
    "test_df = pd.read_csv('COVID-19_Test_to_Treat_20230419.csv')\n",
    "print(test_df.head()) "
   ]
  },
  {
   "cell_type": "code",
   "execution_count": 45,
   "id": "5470af69",
   "metadata": {},
   "outputs": [
    {
     "name": "stdout",
     "output_type": "stream",
     "text": [
      "            Provider Name                            Address1      Address2  \\\n",
      "0        COLLINWOOD DRUGS                        313 Hwy 13 S           NaN   \n",
      "1  WALGREENS STORE #04615                  13007 WARWICK BLVD           NaN   \n",
      "2   LAGUNA HILLS PHARMACY  24261 AVENIDA DE LA CARLOTA STE Q2           NaN   \n",
      "3        Rainbow Pharmacy                      431 7th Street           NaN   \n",
      "4        CVS Store #04007                      3925 Walnut St  CVS Pharmacy   \n",
      "\n",
      "           City             County State Code      Zip National Drug Code  \\\n",
      "0    Collinwood              Wayne         TN  38450.0      00069-1085-30   \n",
      "1  Newport News  Newport News City         VA  23602.0      00069-1085-30   \n",
      "2  Laguna Hills             Orange         CA  92653.0      00069-1085-30   \n",
      "3    Lanai City               Maui         HI  96763.0      00069-1085-30   \n",
      "4  Philadelphia                NaN         PA  19104.0      00069-1085-30   \n",
      "\n",
      "  Order Label  Courses Available              Geocoded Address           NPI  \\\n",
      "0    Paxlovid               19.0  POINT (-87.740841 35.170746)           NaN   \n",
      "1    Paxlovid               92.0  POINT (-76.513157 37.104505)  1.104831e+09   \n",
      "2    Paxlovid               10.0  POINT (-117.704105 33.60863)  1.184106e+09   \n",
      "3    Paxlovid               11.0   POINT (-156.91955 20.82636)  1.588051e+09   \n",
      "4    Paxlovid               16.0  POINT (-75.201455 39.954345)  1.801045e+09   \n",
      "\n",
      "         Last Report Date Provider Status Provider Note  \n",
      "0  04/10/2023 12:00:00 AM          ACTIVE           NaN  \n",
      "1  04/17/2023 12:00:00 AM          ACTIVE           NaN  \n",
      "2  04/17/2023 12:00:00 AM          ACTIVE           NaN  \n",
      "3  04/18/2023 12:00:00 AM          ACTIVE           NaN  \n",
      "4  04/18/2023 12:00:00 AM          ACTIVE           NaN  \n"
     ]
    }
   ],
   "source": [
    "# Import the second dataset for data quality testing\n",
    "train_df = pd.read_csv(\"COVID-19_Public_Therapeutic_Locator.csv\")\n",
    "print(train_df.head()) "
   ]
  },
  {
   "cell_type": "code",
   "execution_count": 48,
   "id": "b3e1c47c",
   "metadata": {},
   "outputs": [
    {
     "name": "stdout",
     "output_type": "stream",
     "text": [
      "Provider Name\n",
      "Address1\n",
      "Address2\n",
      "City\n",
      "State\n",
      "Zip\n",
      "Last Report Date\n",
      "Public Website\n",
      "Phone Number\n",
      "Geopoint\n",
      "Provider Name\n",
      "Address1\n",
      "Address2\n",
      "City\n",
      "County\n",
      "State Code\n",
      "Zip\n",
      "National Drug Code\n",
      "Order Label\n",
      "Courses Available\n",
      "Geocoded Address\n",
      "NPI\n",
      "Last Report Date\n",
      "Provider Status\n",
      "Provider Note\n"
     ]
    }
   ],
   "source": [
    "# Iterating through the columns\n",
    "for col in test_df.columns:\n",
    "    print(col)\n",
    "    \n",
    "for col2 in train_df.columns:\n",
    "    print(col2)"
   ]
  },
  {
   "cell_type": "code",
   "execution_count": 10,
   "id": "e1c1ef84",
   "metadata": {},
   "outputs": [
    {
     "name": "stdout",
     "output_type": "stream",
     "text": [
      "                 Data Type\n",
      "Provider Name       object\n",
      "Address1            object\n",
      "Address2            object\n",
      "City                object\n",
      "State               object\n",
      "Zip                  int64\n",
      "Last Report Date    object\n",
      "Public Website      object\n",
      "Phone Number        object\n",
      "Geopoint            object\n"
     ]
    }
   ],
   "source": [
    "# Adding a step to check for data types\n",
    "data_types = pd.DataFrame(\n",
    "    test_df.dtypes,\n",
    "    columns=['Data Type']\n",
    ")\n",
    "print(data_types)"
   ]
  },
  {
   "cell_type": "code",
   "execution_count": 49,
   "id": "8b8fddc6",
   "metadata": {},
   "outputs": [
    {
     "name": "stdout",
     "output_type": "stream",
     "text": [
      "                  Missing Values\n",
      "Provider Name                  0\n",
      "Address1                       0\n",
      "Address2                    1148\n",
      "City                           0\n",
      "State                          0\n",
      "Zip                            0\n",
      "Last Report Date              64\n",
      "Public Website               533\n",
      "Phone Number                2148\n",
      "Geopoint                       0\n"
     ]
    }
   ],
   "source": [
    "# Doing a check for Completeness\n",
    "completeness_check = pd.DataFrame(\n",
    "    test_df.isnull().sum(),\n",
    "    columns=['Missing Values']\n",
    ")\n",
    "print(completeness_check)"
   ]
  },
  {
   "cell_type": "code",
   "execution_count": 50,
   "id": "a112941d",
   "metadata": {},
   "outputs": [],
   "source": [
    "# Doing a check for Uniqueness\n",
    "uniqueness_check = pd.DataFrame(\n",
    "    columns=['Unique Values']\n",
    ")\n",
    "for row in list(test_df.columns.values):\n",
    "    uniqueness_check.loc[row] = [test_df[row].nunique()]\n",
    "\n",
    "# print(uniqueness_check)"
   ]
  },
  {
   "cell_type": "code",
   "execution_count": 51,
   "id": "e09a48cb",
   "metadata": {
    "scrolled": true
   },
   "outputs": [
    {
     "data": {
      "text/html": [
       "<div>\n",
       "<style scoped>\n",
       "    .dataframe tbody tr th:only-of-type {\n",
       "        vertical-align: middle;\n",
       "    }\n",
       "\n",
       "    .dataframe tbody tr th {\n",
       "        vertical-align: top;\n",
       "    }\n",
       "\n",
       "    .dataframe thead th {\n",
       "        text-align: right;\n",
       "    }\n",
       "</style>\n",
       "<table border=\"1\" class=\"dataframe\">\n",
       "  <thead>\n",
       "    <tr style=\"text-align: right;\">\n",
       "      <th></th>\n",
       "      <th>Data Type</th>\n",
       "      <th>Missing Values</th>\n",
       "      <th>Unique Values</th>\n",
       "    </tr>\n",
       "  </thead>\n",
       "  <tbody>\n",
       "    <tr>\n",
       "      <th>Provider Name</th>\n",
       "      <td>object</td>\n",
       "      <td>0</td>\n",
       "      <td>2484</td>\n",
       "    </tr>\n",
       "    <tr>\n",
       "      <th>Address1</th>\n",
       "      <td>object</td>\n",
       "      <td>0</td>\n",
       "      <td>2480</td>\n",
       "    </tr>\n",
       "    <tr>\n",
       "      <th>Address2</th>\n",
       "      <td>object</td>\n",
       "      <td>1148</td>\n",
       "      <td>137</td>\n",
       "    </tr>\n",
       "    <tr>\n",
       "      <th>City</th>\n",
       "      <td>object</td>\n",
       "      <td>0</td>\n",
       "      <td>1424</td>\n",
       "    </tr>\n",
       "    <tr>\n",
       "      <th>State</th>\n",
       "      <td>object</td>\n",
       "      <td>0</td>\n",
       "      <td>54</td>\n",
       "    </tr>\n",
       "    <tr>\n",
       "      <th>Zip</th>\n",
       "      <td>int64</td>\n",
       "      <td>0</td>\n",
       "      <td>2141</td>\n",
       "    </tr>\n",
       "    <tr>\n",
       "      <th>Last Report Date</th>\n",
       "      <td>object</td>\n",
       "      <td>64</td>\n",
       "      <td>86</td>\n",
       "    </tr>\n",
       "    <tr>\n",
       "      <th>Public Website</th>\n",
       "      <td>object</td>\n",
       "      <td>533</td>\n",
       "      <td>492</td>\n",
       "    </tr>\n",
       "    <tr>\n",
       "      <th>Phone Number</th>\n",
       "      <td>object</td>\n",
       "      <td>2148</td>\n",
       "      <td>306</td>\n",
       "    </tr>\n",
       "    <tr>\n",
       "      <th>Geopoint</th>\n",
       "      <td>object</td>\n",
       "      <td>0</td>\n",
       "      <td>2450</td>\n",
       "    </tr>\n",
       "  </tbody>\n",
       "</table>\n",
       "</div>"
      ],
      "text/plain": [
       "                 Data Type  Missing Values  Unique Values\n",
       "Provider Name       object               0           2484\n",
       "Address1            object               0           2480\n",
       "Address2            object            1148            137\n",
       "City                object               0           1424\n",
       "State               object               0             54\n",
       "Zip                  int64               0           2141\n",
       "Last Report Date    object              64             86\n",
       "Public Website      object             533            492\n",
       "Phone Number        object            2148            306\n",
       "Geopoint            object               0           2450"
      ]
     },
     "execution_count": 51,
     "metadata": {},
     "output_type": "execute_result"
    }
   ],
   "source": [
    "# Creating a quick visual report on KPIs for data quality\n",
    "dq_report = data_types.join(completeness_check).join(uniqueness_check)\n",
    "dq_report"
   ]
  },
  {
   "cell_type": "code",
   "execution_count": 52,
   "id": "5b4867fa",
   "metadata": {},
   "outputs": [
    {
     "data": {
      "text/plain": [
       "389.3"
      ]
     },
     "execution_count": 52,
     "metadata": {},
     "output_type": "execute_result"
    }
   ],
   "source": [
    "dq_report['Missing Values'].mean()"
   ]
  },
  {
   "cell_type": "code",
   "execution_count": 53,
   "id": "1a156325",
   "metadata": {
    "scrolled": true
   },
   "outputs": [
    {
     "data": {
      "application/vnd.jupyter.widget-view+json": {
       "model_id": "6f4f4b83c38f417ba43ab4d0ececc027",
       "version_major": 2,
       "version_minor": 0
      },
      "text/plain": [
       "Summarize dataset:   0%|          | 0/5 [00:00<?, ?it/s]"
      ]
     },
     "metadata": {},
     "output_type": "display_data"
    },
    {
     "data": {
      "application/vnd.jupyter.widget-view+json": {
       "model_id": "41080068b39248c98f27f0f647197c53",
       "version_major": 2,
       "version_minor": 0
      },
      "text/plain": [
       "Generate report structure:   0%|          | 0/1 [00:00<?, ?it/s]"
      ]
     },
     "metadata": {},
     "output_type": "display_data"
    },
    {
     "data": {
      "application/vnd.jupyter.widget-view+json": {
       "model_id": "15d94eb86e024b93a85cb71b41b95ef7",
       "version_major": 2,
       "version_minor": 0
      },
      "text/plain": [
       "Render HTML:   0%|          | 0/1 [00:00<?, ?it/s]"
      ]
     },
     "metadata": {},
     "output_type": "display_data"
    },
    {
     "data": {
      "application/vnd.jupyter.widget-view+json": {
       "model_id": "2455222ed98b48db9b9239caa3255680",
       "version_major": 2,
       "version_minor": 0
      },
      "text/plain": [
       "Export report to file:   0%|          | 0/1 [00:00<?, ?it/s]"
      ]
     },
     "metadata": {},
     "output_type": "display_data"
    }
   ],
   "source": [
    "test_data_prof = ProfileReport(test_df, title = \"Single Report for Test to Treat Data\")\n",
    "test_data_prof.to_file(output_file='test_report.html')"
   ]
  },
  {
   "cell_type": "code",
   "execution_count": 54,
   "id": "5de85aa1",
   "metadata": {},
   "outputs": [
    {
     "name": "stderr",
     "output_type": "stream",
     "text": [
      "/Users/robertgregory/opt/anaconda3/lib/python3.9/site-packages/ydata_profiling/compare_reports.py:192: UserWarning: The datasets being profiled have a different set of columns. Only the left side profile will be calculated.\n",
      "  warnings.warn(\n"
     ]
    },
    {
     "data": {
      "application/vnd.jupyter.widget-view+json": {
       "model_id": "dcb648bc0a6c40feb650398f0f702ba9",
       "version_major": 2,
       "version_minor": 0
      },
      "text/plain": [
       "Summarize dataset:   0%|          | 0/5 [00:00<?, ?it/s]"
      ]
     },
     "metadata": {},
     "output_type": "display_data"
    },
    {
     "data": {
      "application/vnd.jupyter.widget-view+json": {
       "model_id": "8f46fc3c289846ca845733ecd3930ba7",
       "version_major": 2,
       "version_minor": 0
      },
      "text/plain": [
       "Generate report structure:   0%|          | 0/1 [00:00<?, ?it/s]"
      ]
     },
     "metadata": {},
     "output_type": "display_data"
    },
    {
     "data": {
      "application/vnd.jupyter.widget-view+json": {
       "model_id": "ddbfd8682d13424ba009bbd5e61784f2",
       "version_major": 2,
       "version_minor": 0
      },
      "text/plain": [
       "Render HTML:   0%|          | 0/1 [00:00<?, ?it/s]"
      ]
     },
     "metadata": {},
     "output_type": "display_data"
    },
    {
     "data": {
      "application/vnd.jupyter.widget-view+json": {
       "model_id": "83b648b55641442ca5d9fd36b454d619",
       "version_major": 2,
       "version_minor": 0
      },
      "text/plain": [
       "Export report to file:   0%|          | 0/1 [00:00<?, ?it/s]"
      ]
     },
     "metadata": {},
     "output_type": "display_data"
    }
   ],
   "source": [
    "train_data_prof = ProfileReport(train_df, title=\"Single Report for Public Therapeutic Locator Data\")\n",
    "\n",
    "comparison_report = train_data_prof.compare(test_data_prof)\n",
    "comparison_report.to_file(\"comparison_report.html\")"
   ]
  }
 ],
 "metadata": {
  "kernelspec": {
   "display_name": "Python 3 (ipykernel)",
   "language": "python",
   "name": "python3"
  },
  "language_info": {
   "codemirror_mode": {
    "name": "ipython",
    "version": 3
   },
   "file_extension": ".py",
   "mimetype": "text/x-python",
   "name": "python",
   "nbconvert_exporter": "python",
   "pygments_lexer": "ipython3",
   "version": "3.9.12"
  }
 },
 "nbformat": 4,
 "nbformat_minor": 5
}
